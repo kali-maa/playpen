{
 "cells": [
  {
   "cell_type": "markdown",
   "metadata": {},
   "source": [
    "Adapted from http://www.cyber-omelette.com/2016/11/python-n-body-orbital-simulation.html"
   ]
  },
  {
   "cell_type": "code",
   "execution_count": null,
   "metadata": {},
   "outputs": [],
   "source": [
    "import math\n",
    "import time\n",
    "\n",
    "import matplotlib.pyplot as plt\n",
    "from astropy import constants as const\n",
    "\n",
    "%matplotlib notebook"
   ]
  },
  {
   "cell_type": "code",
   "execution_count": null,
   "metadata": {},
   "outputs": [],
   "source": [
    "class Point:\n",
    "    def __init__(self, x,y,z):\n",
    "        self.x = x\n",
    "        self.y = y\n",
    "        self.z = z\n",
    "\n",
    "\n",
    "class Body:\n",
    "    def __init__(self, location, mass, velocity, name=\"\"):\n",
    "        self.location = location\n",
    "        self.mass = mass\n",
    "        self.velocity = velocity\n",
    "        self.name = name\n",
    "        \n",
    "    @classmethod\n",
    "    def from_dict(cls, d, name=''):\n",
    "        return cls(location=d[\"location\"],\n",
    "                   mass=d[\"mass\"],\n",
    "                   velocity=d[\"velocity\"],\n",
    "                   name=name)"
   ]
  },
  {
   "cell_type": "code",
   "execution_count": null,
   "metadata": {},
   "outputs": [],
   "source": [
    "def calculate_single_body_acceleration(bodies, body_index):\n",
    "    G_const = const.G.si.value\n",
    "    acceleration = Point(0, 0, 0)\n",
    "    target_body = bodies[body_index]\n",
    "    for index, external_body in enumerate(bodies):\n",
    "        if index != body_index:\n",
    "            r = ((target_body.location.x - external_body.location.x)**2 +\n",
    "                 (target_body.location.y - external_body.location.y)**2 +\n",
    "                 (target_body.location.z - external_body.location.z)**2)\n",
    "            r = math.sqrt(r)\n",
    "            tmp = G_const * external_body.mass / r**3\n",
    "            acceleration.x += tmp * (external_body.location.x - target_body.location.x)\n",
    "            acceleration.y += tmp * (external_body.location.y - target_body.location.y)\n",
    "            acceleration.z += tmp * (external_body.location.z - target_body.location.z)\n",
    "\n",
    "    return acceleration"
   ]
  },
  {
   "cell_type": "code",
   "execution_count": null,
   "metadata": {},
   "outputs": [],
   "source": [
    "def compute_velocity(bodies, time_step=1):\n",
    "    for body_index, target_body in enumerate(bodies):\n",
    "        acceleration = calculate_single_body_acceleration(bodies, body_index)\n",
    "        target_body.velocity.x += acceleration.x * time_step\n",
    "        target_body.velocity.y += acceleration.y * time_step\n",
    "        target_body.velocity.z += acceleration.z * time_step "
   ]
  },
  {
   "cell_type": "code",
   "execution_count": null,
   "metadata": {},
   "outputs": [],
   "source": [
    "def update_location(bodies, time_step=1):\n",
    "    for target_body in bodies:\n",
    "        target_body.location.x += target_body.velocity.x * time_step\n",
    "        target_body.location.y += target_body.velocity.y * time_step\n",
    "        target_body.location.z += target_body.velocity.z * time_step"
   ]
  },
  {
   "cell_type": "code",
   "execution_count": null,
   "metadata": {},
   "outputs": [],
   "source": [
    "def compute_gravity_step(bodies, time_step=1):\n",
    "    compute_velocity(bodies, time_step=time_step)\n",
    "    update_location(bodies, time_step=time_step)"
   ]
  },
  {
   "cell_type": "code",
   "execution_count": null,
   "metadata": {},
   "outputs": [],
   "source": [
    "def run_simulation(bodies, names=None, time_step=1, number_of_steps=10000, report_freq=100):\n",
    "    #create output container for each body\n",
    "    body_locations_hist = []\n",
    "    for current_body in bodies:\n",
    "        body_locations_hist.append({\"x\":[], \"y\":[], \"z\":[], \"name\": current_body.name})\n",
    "\n",
    "    for i in range(1,number_of_steps):\n",
    "        compute_gravity_step(bodies, time_step=time_step)\n",
    "        \n",
    "        if i % report_freq == 0:\n",
    "            for index, body_location in enumerate(body_locations_hist):\n",
    "                body_location[\"x\"].append(bodies[index].location.x)\n",
    "                body_location[\"y\"].append(bodies[index].location.y)      \n",
    "                body_location[\"z\"].append(bodies[index].location.z)\n",
    "\n",
    "    return body_locations_hist   "
   ]
  },
  {
   "cell_type": "code",
   "execution_count": null,
   "metadata": {},
   "outputs": [],
   "source": [
    "def plot_output(bodies):\n",
    "    fig = plt.figure()\n",
    "    ax = fig.add_subplot(1, 1, 1, projection='3d')\n",
    "    max_range = 0\n",
    "    for i, current_body in enumerate(bodies):\n",
    "        max_dim = max(max(current_body[\"x\"]), max(current_body[\"y\"]), max(current_body[\"z\"]))\n",
    "        if max_dim > max_range:\n",
    "            max_range = max_dim\n",
    "        ax.plot(current_body[\"x\"], current_body[\"y\"], current_body[\"z\"],\n",
    "                c=colours[i], label=current_body[\"name\"])        \n",
    "\n",
    "    ax.set_xlim([-max_range, max_range])    \n",
    "    ax.set_ylim([-max_range, max_range])\n",
    "    ax.set_zlim([-max_range, max_range])\n",
    "    ax.legend()        \n",
    "    \n",
    "    plt.show()"
   ]
  },
  {
   "cell_type": "code",
   "execution_count": null,
   "metadata": {},
   "outputs": [],
   "source": [
    "def plot_output_timelapse(motions):\n",
    "    n_steps = len(motions[0]['x'])\n",
    "    n_bodies = len(motions)\n",
    "    \n",
    "    fig = plt.figure()\n",
    "    ax = fig.add_subplot(1, 1, 1, projection='3d')\n",
    "    \n",
    "    for j in range(n_steps):\n",
    "        for i, current_body in enumerate(motions):\n",
    "            ax.scatter(current_body[\"x\"][j], current_body[\"y\"][j], current_body[\"z\"][j], c=colours[i])\n",
    "        fig.canvas.draw()\n",
    "        time.sleep(0.5)\n",
    "        ax.cla()"
   ]
  },
  {
   "cell_type": "code",
   "execution_count": null,
   "metadata": {},
   "outputs": [],
   "source": [
    "# Planet data (location (m), mass (kg), velocity (m/s)\n",
    "sun = {\"location\": Point(0,0,0), \"mass\": 2e30, \"velocity\": Point(0,0,0)}\n",
    "mercury = {\"location\": Point(0,5.7e10,0), \"mass\": 3.285e23, \"velocity\": Point(47000,0,0)}\n",
    "venus = {\"location\": Point(0,1.1e11,0), \"mass\": 4.8e24, \"velocity\": Point(35000,0,0)}\n",
    "earth = {\"location\": Point(0,1.5e11,0), \"mass\": 6e24, \"velocity\": Point(30000,0,0)}\n",
    "mars = {\"location\": Point(0,2.2e11,0), \"mass\": 2.4e24, \"velocity\": Point(24000,0,0)}\n",
    "#jupiter = {\"location\": Point(0,7.7e11,0), \"mass\": 1e28, \"velocity\": Point(13000,0,0)}\n",
    "jupiter = {\"location\": Point(0,7.7e11,0), \"mass\": 1e28, \"velocity\": Point(0,13000,0)}  # Fling it to the Sun!\n",
    "saturn = {\"location\": Point(0,1.4e12,0), \"mass\": 5.7e26, \"velocity\": Point(9000,0,0)}\n",
    "uranus = {\"location\": Point(0,2.8e12,0), \"mass\": 8.7e25, \"velocity\": Point(6835,0,0)}\n",
    "neptune = {\"location\": Point(0,4.5e12,0), \"mass\": 1e26, \"velocity\": Point(5477,0,0)}\n",
    "pluto = {\"location\": Point(0,3.7e12,0), \"mass\": 1.3e22, \"velocity\": Point(4748,0,0)}"
   ]
  },
  {
   "cell_type": "code",
   "execution_count": null,
   "metadata": {},
   "outputs": [],
   "source": [
    "# Build list of planets in the simulation, or create your own\n",
    "bodies = [\n",
    "    Body.from_dict(sun, name='Sun'),\n",
    "    Body.from_dict(mercury, name='Mercury'),\n",
    "    Body.from_dict(venus, name='Venus'),\n",
    "    Body.from_dict(earth, name='Earth'),\n",
    "    Body.from_dict(mars, name='Mars'),\n",
    "    Body.from_dict(jupiter, name='Jupiter'),\n",
    "    Body.from_dict(saturn, name='Saturn'),\n",
    "    Body.from_dict(uranus, name='Uranus'),\n",
    "    Body.from_dict(neptune, name='Neptune'),\n",
    "    Body.from_dict(pluto, name='Pluto')\n",
    "]\n",
    "\n",
    "colours = ['yellow', 'gray', 'salmon', 'green', 'red', 'brown', 'orange', 'aquamarine', 'skyblue', 'peachpuff']"
   ]
  },
  {
   "cell_type": "code",
   "execution_count": null,
   "metadata": {},
   "outputs": [],
   "source": [
    "# Takes a while. This is why no one do serious n-body in Python.\n",
    "motions = run_simulation(bodies, time_step=7200, number_of_steps=80000, report_freq=1000)"
   ]
  },
  {
   "cell_type": "code",
   "execution_count": null,
   "metadata": {},
   "outputs": [],
   "source": [
    "plot_output_timelapse(motions)"
   ]
  },
  {
   "cell_type": "code",
   "execution_count": null,
   "metadata": {},
   "outputs": [],
   "source": []
  }
 ],
 "metadata": {
  "kernelspec": {
   "display_name": "Python 3",
   "language": "python",
   "name": "python3"
  },
  "language_info": {
   "codemirror_mode": {
    "name": "ipython",
    "version": 3
   },
   "file_extension": ".py",
   "mimetype": "text/x-python",
   "name": "python",
   "nbconvert_exporter": "python",
   "pygments_lexer": "ipython3",
   "version": "3.8.5"
  }
 },
 "nbformat": 4,
 "nbformat_minor": 4
}
