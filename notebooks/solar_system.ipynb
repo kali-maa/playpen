{
 "cells": [
  {
   "cell_type": "markdown",
   "metadata": {},
   "source": [
    "# Simple Solar System Simulation using Astropy\n",
    "\n",
    "This notebook showcases a simple Solar System simulation using [Astropy](https://www.astropy.org/).\n",
    "\n",
    "The simulation assumes Solar System bodies are point sources with mass, thus collision is not considered. Small bodies like asteroids, comets, and moons are also omitted. Orbital motions are calculated by considering gravitational force between all the bodies.\n",
    "\n",
    "Adapted from http://www.cyber-omelette.com/2016/11/python-n-body-orbital-simulation.html.\n",
    "\n",
    "To run this notebook, the following Python packages are required:\n",
    "\n",
    "* `numpy`\n",
    "* `astropy`\n",
    "* `matplotlib` (for plotting only)"
   ]
  },
  {
   "cell_type": "code",
   "execution_count": null,
   "metadata": {},
   "outputs": [],
   "source": [
    "import time\n",
    "\n",
    "import matplotlib.pyplot as plt\n",
    "import numpy as np\n",
    "from astropy import constants as const\n",
    "from astropy import units as u\n",
    "from astropy.table import QTable\n",
    "from astropy.visualization import quantity_support\n",
    "\n",
    "# Let matplotlib understand astropy Quantity.\n",
    "quantity_support()\n",
    "\n",
    "%matplotlib notebook"
   ]
  },
  {
   "cell_type": "code",
   "execution_count": null,
   "metadata": {},
   "outputs": [],
   "source": [
    "# Define some common compound units.\n",
    "vel_unit = u.m / u.s\n",
    "acc_unit = u.m / (u.s * u.s)"
   ]
  },
  {
   "cell_type": "code",
   "execution_count": null,
   "metadata": {},
   "outputs": [],
   "source": [
    "class Body:\n",
    "    \"\"\"Class to handle a body in a planetary system.\n",
    "    \n",
    "    Parameters\n",
    "    ----------\n",
    "    name : str\n",
    "        Name of the body.\n",
    "        \n",
    "    mass : Quantity\n",
    "        Mass of the body.\n",
    "        \n",
    "    location : Quantity\n",
    "        Starting position of the body as (x, y, z) vector.\n",
    "    \n",
    "    velocity : Quantity\n",
    "        Starting velocity of the body as (x, y, z) vector.\n",
    "    \n",
    "    \"\"\"\n",
    "    def __init__(self, name, mass, location, velocity):\n",
    "        self.name = name\n",
    "        self.mass = mass\n",
    "        self.location = location\n",
    "        self.velocity = velocity\n",
    "\n",
    "    def calculate_single_body_acceleration(self, bodies):\n",
    "        \"\"\"Acceleration of self caused by other bodies.\"\"\"\n",
    "        acceleration = [0, 0, 0] * acc_unit\n",
    "\n",
    "        for other in bodies:\n",
    "            if other is self:\n",
    "                continue\n",
    "\n",
    "            diff = self.location - other.location\n",
    "            r = np.sqrt(np.sum(diff * diff))\n",
    "            tmp = const.G * other.mass / (r ** 3)\n",
    "            acceleration = acceleration + tmp * (other.location - self.location)\n",
    "\n",
    "        return acceleration\n",
    "\n",
    "    def move(self, bodies, time_step):\n",
    "        \"\"\"Update velocity and location based on interaction with other bodies and given time step.\"\"\"\n",
    "        acceleration = self.calculate_single_body_acceleration(bodies)\n",
    "        self.velocity = self.velocity + (acceleration * time_step)\n",
    "        self.location = self.location + (self.velocity * time_step)    \n",
    "\n",
    "\n",
    "class System:\n",
    "    \"\"\"Class to handle a planetary system.\n",
    "    \n",
    "    Parameters\n",
    "    ----------\n",
    "    bodies : list of Body\n",
    "        List of bodies in the system, including the Sun.\n",
    "    \n",
    "    time_step : Quantity\n",
    "        Time step to use for each iteration.\n",
    "    \n",
    "    \"\"\"\n",
    "    def __init__(self, bodies, time_step=(1 * u.d)):\n",
    "        self.bodies = bodies\n",
    "        self.time_step = time_step\n",
    "\n",
    "    def run_simulation(self, number_of_steps=10000, report_freq=100):\n",
    "        \"\"\"Simulate orbital motions.\"\"\"\n",
    "        # Create output container for each body:\n",
    "        # time step, body1(x,y,z), body2(x,y,z), ...\n",
    "        body_locations_hist = []\n",
    "        append_body = body_locations_hist.append\n",
    "\n",
    "        for i in range(1, number_of_steps + 1):\n",
    "            for target_body in self.bodies:\n",
    "                target_body.move(self.bodies, self.time_step)\n",
    "\n",
    "            if i % report_freq == 0:\n",
    "                append_body([i * self.time_step] + [b.location.to(u.AU) for b in self.bodies])\n",
    "\n",
    "        return QTable(rows=body_locations_hist, names=['t'] + [b.name for b in self.bodies])"
   ]
  },
  {
   "cell_type": "code",
   "execution_count": null,
   "metadata": {},
   "outputs": [],
   "source": [
    "def plot_output_all(result, max_range=(50 * u.AU)):\n",
    "    \"\"\"Plot all orbits at once within the given range.\"\"\"\n",
    "    fig = plt.figure()\n",
    "    ax = fig.add_subplot(1, 1, 1, projection='3d')\n",
    "    \n",
    "    body_names = result.colnames[1:]\n",
    "    colors = ['yellow', 'gray', 'salmon', 'green', 'red', 'brown', 'orange', 'aquamarine', 'skyblue', 'peachpuff']\n",
    "\n",
    "    if len(body_names) != len(colors):\n",
    "        raise ValueError('Body and color lists mismatched')\n",
    "\n",
    "    for b, c in zip(body_names, colors):\n",
    "        locs = result[b]  # (xyz1, xyz2, ...)\n",
    "        ax.plot(locs[:, 0], locs[:, 1], locs[:, 2], c=c, label=b)\n",
    "\n",
    "    ax.set_xlim([-max_range, max_range])    \n",
    "    ax.set_ylim([-max_range, max_range])\n",
    "    ax.set_zlim([-max_range, max_range])\n",
    "    ax.legend(bbox_to_anchor=(-0.05, 1), loc='upper right')\n",
    "    plt.show()"
   ]
  },
  {
   "cell_type": "code",
   "execution_count": null,
   "metadata": {},
   "outputs": [],
   "source": [
    "def plot_output_timelapse(result, time_pause=0.1, max_range=(50 * u.AU)):\n",
    "    \"\"\"Time-lapse view of orbital motions within the given range.\"\"\"\n",
    "    fig = plt.figure()\n",
    "    ax = fig.add_subplot(1, 1, 1, projection='3d')\n",
    "\n",
    "    body_names = result.colnames[1:]\n",
    "    colors = ['yellow', 'gray', 'salmon', 'green', 'red', 'brown', 'orange', 'aquamarine', 'skyblue', 'peachpuff']\n",
    "\n",
    "    if len(body_names) != len(colors):\n",
    "        raise ValueError('Body and color lists mismatched')\n",
    "\n",
    "    for row in result:\n",
    "        ax.cla()\n",
    "\n",
    "        for b, c in zip(body_names, colors):\n",
    "            locs = row[b]\n",
    "            ax.scatter(*locs, c=c, label=b)\n",
    "\n",
    "        ax.set_xlim([-max_range, max_range])    \n",
    "        ax.set_ylim([-max_range, max_range])\n",
    "        ax.set_zlim([-max_range, max_range])\n",
    "        ax.set_title(f't = {row[\"t\"]}')\n",
    "        ax.legend(bbox_to_anchor=(-0.05, 1), loc='upper right')\n",
    "        fig.canvas.draw()\n",
    "        time.sleep(time_pause)"
   ]
  },
  {
   "cell_type": "markdown",
   "metadata": {},
   "source": [
    "Next, we define the Solar System bodies. Mass values are taken from Wikipedia. Starting Y-locations are semi-major axis values, also taken from Wikipedia. Starting velocity values are from the original source linked above.\n",
    "\n",
    "If you are a planet-purist, you can opt to comment out Pluto. If you do that, please also update `colors` in the plotting functions above.\n",
    "\n",
    "If you wish to create chaos, such as flinging one of the planets toward the Sun, you can also modify the appropriate velocity values."
   ]
  },
  {
   "cell_type": "code",
   "execution_count": null,
   "metadata": {},
   "outputs": [],
   "source": [
    "# Body data: Name, mass, location (x, y, z), velocity (x, y, z)\n",
    "sun = Body('Sun', 1 * u.M_sun, [0, 0, 0] * u.AU,  [0, 0, 0] * vel_unit)\n",
    "mercury = Body('Mercury', 0.055 * u.M_earth, [0, 0.387098, 0] * u.AU, [47000, 0, 0] * vel_unit)\n",
    "venus = Body('Venus', 0.815 * u.M_earth, [0, 0.723332, 0] * u.AU, [35000, 0, 0] * vel_unit)\n",
    "earth = Body('Earth', 1 * u.M_earth, [0, 1, 0] * u.AU, [30000, 0, 0] * vel_unit)\n",
    "mars = Body('Mars', 0.107 * u.M_earth, [0, 1.523679, 0] * u.AU, [24000, 0, 0] * vel_unit)\n",
    "jupiter = Body('Jupiter', 1 * u.M_jup, [0, 5.2044, 0] * u.AU, [13000, 0, 0] * vel_unit)\n",
    "saturn = Body('Saturn', 95.159 * u.M_earth, [0, 9.5826, 0] * u.AU, [9000, 0, 0] * vel_unit)\n",
    "uranus = Body('Uranus', 14.536 * u.M_earth, [0, 19.2184, 0] * u.AU, [6835, 0, 0] * vel_unit)\n",
    "neptune = Body('Neptune', 17.147 * u.M_earth, [0, 30.07, 0] * u.AU, [5477, 0, 0] * vel_unit)\n",
    "pluto = Body('Pluto', 0.00218 * u.M_earth, [0, 39.482, 0] * u.AU, [4748, 0, 0] * vel_unit)\n",
    "\n",
    "# Fling it to the Sun!\n",
    "# jupiter.velocity = [0, 13000, 0] * vel_unit\n",
    "\n",
    "# Build list of planets in the simulation, or create your own.\n",
    "bodies = [sun, mercury, venus, earth, mars,\n",
    "          jupiter, saturn, uranus, neptune, pluto]"
   ]
  },
  {
   "cell_type": "markdown",
   "metadata": {},
   "source": [
    "Now, we can run the simulation! Feel free to adjust the time step, number of steps, and reporting frequency. Smaller time step means higher accuracy. The number of steps defines total simulation time. Lower value of reporting frequency means finer grid of sampling.\n",
    "\n",
    "This is computationally intensive, so as this next cell is running, you can take a break.\n",
    "\n",
    "To really speed things up, try reducing the number of bodies you include in your simulation. If you do that, please also update `colors` in the plotting functions above."
   ]
  },
  {
   "cell_type": "code",
   "execution_count": null,
   "metadata": {},
   "outputs": [],
   "source": [
    "ss = System(bodies, time_step=(1 * u.d))\n",
    "motions = ss.run_simulation(number_of_steps=1000, report_freq=10)"
   ]
  },
  {
   "cell_type": "markdown",
   "metadata": {},
   "source": [
    "This prints out the first few rows in the sampled output of your simulation."
   ]
  },
  {
   "cell_type": "code",
   "execution_count": null,
   "metadata": {},
   "outputs": [],
   "source": [
    "motions[:5]"
   ]
  },
  {
   "cell_type": "markdown",
   "metadata": {},
   "source": [
    "We can visualize the simulation by drawing out the orbits all at once. You can make `max_range` smaller to zoom in, or larger to zoom out."
   ]
  },
  {
   "cell_type": "code",
   "execution_count": null,
   "metadata": {},
   "outputs": [],
   "source": [
    "plot_output_all(motions, max_range=(18 * u.AU))"
   ]
  },
  {
   "cell_type": "markdown",
   "metadata": {},
   "source": [
    "We can also visualize the simulation as a time-lapse animation. You can make `max_range` smaller to zoom in, or larger to zoom out."
   ]
  },
  {
   "cell_type": "code",
   "execution_count": null,
   "metadata": {},
   "outputs": [],
   "source": [
    "plot_output_timelapse(motions, max_range=(18 * u.AU))"
   ]
  }
 ],
 "metadata": {
  "kernelspec": {
   "display_name": "Python 3",
   "language": "python",
   "name": "python3"
  },
  "language_info": {
   "codemirror_mode": {
    "name": "ipython",
    "version": 3
   },
   "file_extension": ".py",
   "mimetype": "text/x-python",
   "name": "python",
   "nbconvert_exporter": "python",
   "pygments_lexer": "ipython3",
   "version": "3.8.5"
  }
 },
 "nbformat": 4,
 "nbformat_minor": 4
}
