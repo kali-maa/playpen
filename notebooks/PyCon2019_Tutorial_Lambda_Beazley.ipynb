{
 "cells": [
  {
   "cell_type": "markdown",
   "metadata": {},
   "source": [
    "# Lambda Calculus from the Ground Up -- David Beazley\n",
    "\n",
    "## PyCon 2019\n",
    "\n",
    "https://us.pycon.org/2019/schedule/presentation/79/"
   ]
  },
  {
   "cell_type": "markdown",
   "metadata": {},
   "source": [
    "Here is a `lambda` function in Python."
   ]
  },
  {
   "cell_type": "code",
   "execution_count": null,
   "metadata": {},
   "outputs": [],
   "source": [
    "f = lambda x: 3 * x + 1"
   ]
  },
  {
   "cell_type": "code",
   "execution_count": null,
   "metadata": {},
   "outputs": [],
   "source": [
    "f(2)"
   ]
  },
  {
   "cell_type": "markdown",
   "metadata": {},
   "source": [
    "Why call it lambda? It is taken from lambda calculus. But what is lambda calculus?\n",
    "\n",
    "How to teach this to a 10 year-old? \"You replace the `x` and then you do math.\""
   ]
  },
  {
   "cell_type": "code",
   "execution_count": null,
   "metadata": {},
   "outputs": [],
   "source": [
    "print(f(2 + 3))\n",
    "\n",
    "# But how to best explain substitution?\n",
    "print(3 * (5) + 1)\n",
    "print(3 * (2 + 3) + 1)"
   ]
  },
  {
   "cell_type": "markdown",
   "metadata": {},
   "source": [
    "What if single-argument function is the only thing that exists in this universe? Cannot do:\n",
    "\n",
    "```python\n",
    "def f(x):\n",
    "    return x + 1  # No. No number nor operator\n",
    "\n",
    "def f(x, y):  # No. Single arg only\n",
    "   if ...:   # No. No conditionals.\n",
    "       ...\n",
    "```\n",
    "\n",
    "But you can do:\n",
    "\n",
    "```python\n",
    "def f(x):\n",
    "    return x\n",
    "        \n",
    "def f(x):\n",
    "    return x(x)  # Yes but not sure what this does\n",
    "        \n",
    "def f(x):\n",
    "    def g(x):\n",
    "        return x(y)\n",
    "    return g\n",
    "```\n",
    "\n",
    "So, what can we do here? Can we model a simple electrical switch, with `a` and `b` inputs and an `out`."
   ]
  },
  {
   "cell_type": "code",
   "execution_count": null,
   "metadata": {},
   "outputs": [],
   "source": [
    "def LEFT(a):\n",
    "    def f(b):\n",
    "        return a\n",
    "    return f\n",
    "\n",
    "\n",
    "def RIGHT(a):\n",
    "    def f(b):\n",
    "        return b\n",
    "    return f"
   ]
  },
  {
   "cell_type": "markdown",
   "metadata": {},
   "source": [
    "Ignore that string is not allowed... We will break some rules from time to time to get the point across.\n",
    "\n",
    "We are tracking the behavior."
   ]
  },
  {
   "cell_type": "code",
   "execution_count": null,
   "metadata": {},
   "outputs": [],
   "source": [
    "print(LEFT('5v')('gnd'))\n",
    "print(RIGHT('5v')('gnd'))"
   ]
  },
  {
   "cell_type": "markdown",
   "metadata": {},
   "source": [
    "As a result, we can rewrite `add(x, y)` like this, using https://en.wikipedia.org/wiki/Currying."
   ]
  },
  {
   "cell_type": "code",
   "execution_count": null,
   "metadata": {},
   "outputs": [],
   "source": [
    "def add(x):  # \"Currying\"\n",
    "    def f(y):\n",
    "        return x + y\n",
    "    return f"
   ]
  },
  {
   "cell_type": "code",
   "execution_count": null,
   "metadata": {},
   "outputs": [],
   "source": [
    "add(2)(3)"
   ]
  },
  {
   "cell_type": "markdown",
   "metadata": {},
   "source": [
    "#### The truth\n",
    "\n",
    "It is a bit odd because we're not representing `True` and `False` as bits, but as behaviors. `TRUE` here is whatever the `x` is given `func(x)(y)`."
   ]
  },
  {
   "cell_type": "code",
   "execution_count": null,
   "metadata": {},
   "outputs": [],
   "source": [
    "def TRUE(x):\n",
    "    return lambda y: x\n",
    "\n",
    "\n",
    "def FALSE(x):\n",
    "    return lambda y: y"
   ]
  },
  {
   "cell_type": "code",
   "execution_count": null,
   "metadata": {},
   "outputs": [],
   "source": [
    "print(TRUE('5v')('gnd'))\n",
    "print(FALSE('5v')('gnd'))"
   ]
  },
  {
   "cell_type": "code",
   "execution_count": null,
   "metadata": {},
   "outputs": [],
   "source": [
    "FALSE('5v')"
   ]
  },
  {
   "cell_type": "code",
   "execution_count": null,
   "metadata": {},
   "outputs": [],
   "source": [
    "TRUE(TRUE)(FALSE)"
   ]
  },
  {
   "cell_type": "code",
   "execution_count": null,
   "metadata": {},
   "outputs": [],
   "source": [
    "f = lambda x: y\n",
    "TRUE(f)(FALSE)"
   ]
  },
  {
   "cell_type": "markdown",
   "metadata": {},
   "source": [
    "Now, how do we implement `NOT`?\n",
    "\n",
    "```python\n",
    "def NOT(x):\n",
    "    ...\n",
    "```\n",
    "\n",
    "where\n",
    "\n",
    "```python\n",
    "assert NOT(TRUE) is FALSE\n",
    "assert NOT(FALSE) is TRUE\n",
    "```\n",
    "\n",
    "We flip the inputs!"
   ]
  },
  {
   "cell_type": "code",
   "execution_count": null,
   "metadata": {},
   "outputs": [],
   "source": [
    "def NOT(x):\n",
    "    return x(FALSE)(TRUE)"
   ]
  },
  {
   "cell_type": "code",
   "execution_count": null,
   "metadata": {},
   "outputs": [],
   "source": [
    "print(NOT(TRUE))\n",
    "print(NOT(FALSE))"
   ]
  },
  {
   "cell_type": "markdown",
   "metadata": {},
   "source": [
    "What about `AND` and `OR`?\n",
    "\n",
    "Consider Python `AND`: If first argument is `True`, Python goes to the second argument. Otherwise, it stops at the first one."
   ]
  },
  {
   "cell_type": "code",
   "execution_count": null,
   "metadata": {},
   "outputs": [],
   "source": [
    "print(2 and 3)  # Goes to 3\n",
    "print(0 and 3)  # Stops at 0"
   ]
  },
  {
   "cell_type": "code",
   "execution_count": null,
   "metadata": {},
   "outputs": [],
   "source": [
    "def AND(x):\n",
    "    \"\"\"If x is TRUE, return the second argument.\n",
    "    Otherwise, return the first one.\n",
    "    \"\"\"\n",
    "    return lambda y: x(y)(x)"
   ]
  },
  {
   "cell_type": "code",
   "execution_count": null,
   "metadata": {},
   "outputs": [],
   "source": [
    "print(AND(TRUE)(TRUE))\n",
    "print(AND(TRUE)(FALSE))\n",
    "print(AND(FALSE)(TRUE))\n",
    "print(AND(FALSE)(FALSE))"
   ]
  },
  {
   "cell_type": "markdown",
   "metadata": {},
   "source": [
    "\"This is insane... Don't ask this at job interviews.\""
   ]
  },
  {
   "cell_type": "code",
   "execution_count": null,
   "metadata": {},
   "outputs": [],
   "source": [
    "def OR(x):\n",
    "    \"\"\"Opposite behavior of AND.\"\"\"\n",
    "    return lambda y: x(x)(y)"
   ]
  },
  {
   "cell_type": "code",
   "execution_count": null,
   "metadata": {},
   "outputs": [],
   "source": [
    "print(OR(TRUE)(TRUE))\n",
    "print(OR(TRUE)(FALSE))\n",
    "print(OR(FALSE)(TRUE))\n",
    "print(OR(FALSE)(FALSE))"
   ]
  },
  {
   "cell_type": "markdown",
   "metadata": {},
   "source": [
    "How do we represent numbers? Let's not overthink and get back to kindergarten (like finger counting)."
   ]
  },
  {
   "cell_type": "code",
   "execution_count": null,
   "metadata": {},
   "outputs": [],
   "source": [
    "ZERO = lambda f: lambda x: x  # Zero means no usage of f\n",
    "ONE = lambda f: lambda x: f(x)  # One means single usage of f\n",
    "TWO = lambda f: lambda x: f(f(x))  # And so on...\n",
    "THREE = lambda f: lambda x: f(f(f(x)))\n",
    "FOUR = lambda f: lambda x: f(f(f(f(x))))"
   ]
  },
  {
   "cell_type": "markdown",
   "metadata": {},
   "source": [
    "Let's make sense of this in Python world.\n",
    "\n",
    "The sole purpose of `incr` and `show` are to visualize how those lambda function work in a normal Python world. Hence, they break some rules that we have set earlier."
   ]
  },
  {
   "cell_type": "code",
   "execution_count": null,
   "metadata": {},
   "outputs": [],
   "source": [
    "def incr(x):\n",
    "    return x + 1  # Illegal in rules\n",
    "\n",
    "\n",
    "print(incr(0))\n",
    "print(incr(incr(0)))\n",
    "\n",
    "\n",
    "def show(n):  # Debugging only\n",
    "    print(n(incr)(0))\n",
    "    \n",
    "    \n",
    "show(THREE)  # Same as THREE(incr)(0)"
   ]
  },
  {
   "cell_type": "code",
   "execution_count": null,
   "metadata": {},
   "outputs": [],
   "source": [
    "def star_incr(x):\n",
    "    \"\"\"If you do not like incr(), you can define your own function,\n",
    "    like this one that deals with string.\"\"\"\n",
    "    return '*' + x\n",
    "\n",
    "\n",
    "print(THREE(star_incr)(''))\n",
    "\n",
    "\n",
    "def p(t):\n",
    "    \"\"\"Or this one, as long as it takes one argument.\"\"\"\n",
    "    return (t[0] + 1, t[0])\n",
    "\n",
    "\n",
    "print(p((0, 0)))\n",
    "\n",
    "# THREE does not care what you pass it as long as\n",
    "# it takes a single argument.\n",
    "print(THREE(p)((0, 0)))"
   ]
  },
  {
   "cell_type": "markdown",
   "metadata": {},
   "source": [
    "How do we add more numbers in our universe?"
   ]
  },
  {
   "cell_type": "code",
   "execution_count": null,
   "metadata": {},
   "outputs": [],
   "source": [
    "# What does this do?\n",
    "a = FOUR(THREE)\n",
    "\n",
    "# Turns out, a is exponential, not multiplicative.\n",
    "show(a)  # Same as FOUR(THREE)(incr)(0)\n",
    "print(3 ** 4)"
   ]
  },
  {
   "cell_type": "code",
   "execution_count": null,
   "metadata": {},
   "outputs": [],
   "source": [
    "# And ZERO has same behavior as FALSE...\n",
    "show(ZERO)  # ZERO(incr)(0) gives 0"
   ]
  },
  {
   "cell_type": "markdown",
   "metadata": {},
   "source": [
    "#### Challenge: Implement successor\n",
    "\n",
    "    SUCC(TWO) ---> THREE\n",
    "\n",
    "```python\n",
    "SUCC = lambda n: ???\n",
    "```"
   ]
  },
  {
   "cell_type": "code",
   "execution_count": null,
   "metadata": {},
   "outputs": [],
   "source": [
    "SUCC = lambda n: (lambda f: lambda x: f(n(f)(x)))"
   ]
  },
  {
   "cell_type": "code",
   "execution_count": null,
   "metadata": {},
   "outputs": [],
   "source": [
    "show(SUCC(FOUR))"
   ]
  },
  {
   "cell_type": "markdown",
   "metadata": {},
   "source": [
    "But how do we decrement? We will not address it right now. Will do that later.\n",
    "\n",
    "How do we increment more than one? Why, we call `SUCC` multiple times!"
   ]
  },
  {
   "cell_type": "code",
   "execution_count": null,
   "metadata": {},
   "outputs": [],
   "source": [
    "print(2 + 4)\n",
    "show(SUCC(SUCC(FOUR)))"
   ]
  },
  {
   "cell_type": "markdown",
   "metadata": {},
   "source": [
    "#### Addition\n",
    "\n",
    "Apply successor `y` times after the given `x` (I think?)."
   ]
  },
  {
   "cell_type": "code",
   "execution_count": null,
   "metadata": {},
   "outputs": [],
   "source": [
    "ADD = lambda x: lambda y: y(SUCC)(x)"
   ]
  },
  {
   "cell_type": "code",
   "execution_count": null,
   "metadata": {},
   "outputs": [],
   "source": [
    "print(3 + 4)\n",
    "show(ADD(THREE)(FOUR))"
   ]
  },
  {
   "cell_type": "markdown",
   "metadata": {},
   "source": [
    "#### Multiplication"
   ]
  },
  {
   "cell_type": "code",
   "execution_count": null,
   "metadata": {},
   "outputs": [],
   "source": [
    "MUL = lambda x: lambda y: lambda f: y(x(f))"
   ]
  },
  {
   "cell_type": "markdown",
   "metadata": {},
   "source": [
    "What is it really doing? Let's expand it.\n",
    "\n",
    "```python\n",
    "def MUL(x):\n",
    "    def func1(y):\n",
    "        def func2(f):\n",
    "            return y(x(f))\n",
    "        return func2\n",
    "    return func1\n",
    "```"
   ]
  },
  {
   "cell_type": "markdown",
   "metadata": {},
   "source": [
    "Consider this substitution for the next cell.\n",
    "\n",
    "```python\n",
    "def MUL(FOUR):\n",
    "    def func1(THREE):\n",
    "        def func2(incr):\n",
    "            return THREE(FOUR(incr))\n",
    "        return func2\n",
    "    return func1\n",
    "```"
   ]
  },
  {
   "cell_type": "code",
   "execution_count": null,
   "metadata": {},
   "outputs": [],
   "source": [
    "print(4 * 3)\n",
    "show(MUL(FOUR)(THREE))  # THREE(FOUR(incr))(0)"
   ]
  },
  {
   "cell_type": "markdown",
   "metadata": {},
   "source": [
    "Note that `MUL` is different from the exponential function defined earlier:\n",
    "\n",
    "```python\n",
    "FOUR(THREE)(incr)(0)  # exponential\n",
    "```"
   ]
  },
  {
   "cell_type": "code",
   "execution_count": null,
   "metadata": {},
   "outputs": [],
   "source": [
    "print('4 * 3 = 4 + 4 + 4 =', THREE(FOUR(incr))(0))\n",
    "print('3 * 4 = 3 + 3 + 3 + 3 =', FOUR(THREE(incr))(0))\n",
    "print('3 ** 4 = 3 * 3 * 3 * 3 =', FOUR(THREE)(incr)(0))\n",
    "print('4 ** 3 = 4 * 4 * 4 =', THREE(FOUR)(incr)(0))"
   ]
  },
  {
   "cell_type": "markdown",
   "metadata": {},
   "source": [
    "\"Is anyone's mind shattered yet? It is really hard to debug this stuff.\"\n",
    "\n",
    "Can we implement equality? Yes, but we will not do it here."
   ]
  },
  {
   "cell_type": "markdown",
   "metadata": {},
   "source": [
    "#### The digression\n",
    "\n",
    "Let's consider a JSON object from hell. Given that we are digressing, we can break some rules.\n",
    "\n",
    "\"But you said we won't learn anything relevant for our work?\"<br/>\n",
    "\"Oh, it won't be relevant anymore soon... Don't worry!\""
   ]
  },
  {
   "cell_type": "code",
   "execution_count": null,
   "metadata": {},
   "outputs": [],
   "source": [
    "data = {\n",
    "    'a': {\n",
    "        'b': {\n",
    "            'c': 42\n",
    "        }\n",
    "    }\n",
    "}"
   ]
  },
  {
   "cell_type": "code",
   "execution_count": null,
   "metadata": {},
   "outputs": [],
   "source": [
    "def getc(d):\n",
    "    return data['a']['b']['c']\n",
    "\n",
    "\n",
    "print(getc(data))"
   ]
  },
  {
   "cell_type": "markdown",
   "metadata": {},
   "source": [
    "But the `getc` function above will give KeyError if input is malformed. We can put in a bunch of `if` statements but it is ugly.\n",
    "\n",
    "```python\n",
    "def getc(d):\n",
    "    d = d.get('a')\n",
    "    if d is not None:\n",
    "        d = d.get('b')\n",
    "    if d is not None:\n",
    "        d = d.get('c')\n",
    "    ...\n",
    "```\n",
    "\n",
    "So, we'll implement \"perhaps\" instead."
   ]
  },
  {
   "cell_type": "code",
   "execution_count": null,
   "metadata": {},
   "outputs": [],
   "source": [
    "def perhaps(d, func):\n",
    "    if d is not None:\n",
    "        return func(d)\n",
    "    return None"
   ]
  },
  {
   "cell_type": "code",
   "execution_count": null,
   "metadata": {},
   "outputs": [],
   "source": [
    "print(perhaps(data, lambda d: d.get('a')))\n",
    "print(perhaps({}, lambda d: d.get('a')))"
   ]
  },
  {
   "cell_type": "code",
   "execution_count": null,
   "metadata": {},
   "outputs": [],
   "source": [
    "perhaps(perhaps(data, lambda d: d.get('a')), lambda d: d.get('b'))"
   ]
  },
  {
   "cell_type": "markdown",
   "metadata": {},
   "source": [
    "We can chain `perhaps` and now you cannot use it for work anymore...\n",
    "\n",
    "How about a `Perhaps` class?"
   ]
  },
  {
   "cell_type": "code",
   "execution_count": null,
   "metadata": {},
   "outputs": [],
   "source": [
    "class Perhaps:\n",
    "    def __init__(self, value):\n",
    "        self.value = value\n",
    "        \n",
    "    def __rshift__(self, other):\n",
    "        if self.value is not None:\n",
    "            return Perhaps(other(self.value))\n",
    "        return self"
   ]
  },
  {
   "cell_type": "code",
   "execution_count": null,
   "metadata": {},
   "outputs": [],
   "source": [
    "ans = Perhaps(data) >> (lambda d: d.get('a')) >> (lambda d: d.get('b')) >> (lambda d: d.get('c'))\n",
    "print(ans.value)"
   ]
  },
  {
   "cell_type": "markdown",
   "metadata": {},
   "source": [
    "\"Perhaps\" this is an example of a \"Monad\". (The words were chosen carefully here due to some scholarly arguments...)\n",
    "\n",
    "https://en.wikipedia.org/wiki/Monad_(functional_programming)"
   ]
  },
  {
   "cell_type": "markdown",
   "metadata": {},
   "source": [
    "#### The symbols\n",
    "\n",
    "We can implement `AND` and then simplify it...\n",
    "\n",
    "```python\n",
    "def AND(x):\n",
    "    def f(x):\n",
    "        return x(y)(x)\n",
    "    return f\n",
    "\n",
    "\n",
    "def AND(x):\n",
    "    return lambda y: x(y)(x)\n",
    "\n",
    "\n",
    "AND = lambda x: lambda y: x(y)(x)\n",
    "```"
   ]
  },
  {
   "cell_type": "markdown",
   "metadata": {},
   "source": [
    "Can we take this further? Yes!\n",
    "\n",
    "You might have seen something like this in literary papers:\n",
    "    \n",
    "    AND = λx:λy:x(y)(x)\n",
    "    AND = λxy:x(y)(x)\n",
    "    AND = λxy:xyx\n",
    "    AND = λxy.xyx\n",
    "    \n",
    "Rule 1: You can rename an argument.<br/>\n",
    "Caveat: You cannot introduce a name clash.<br/>\n",
    "Known as: \"Alpha conversion\"\n",
    "\n",
    "    AND = λxy.xyx\n",
    "    AND = λzy.zyz\n",
    "   \n",
    "Rule 2: You substitute arguments. In the notation below, `ab` goes into `x`.\n",
    "\n",
    "    (λxy.xyx)(ab)\n",
    "    λy.(ab)y(ab)\n",
    "    \n",
    "Scoping (global vs. local, not unlike Python), needs to rename variable:\n",
    "\n",
    "    (λxy.xyx)(y)  # Is NOT λy.yyy\n",
    "    (λxz.xzx)(y)  # This becomes λz.yzy\n",
    "    \n",
    "Rule 3: You can make a function\n",
    "\n",
    "    x = 3\n",
    "    x = (lambda a: a)(3)  # Because we can\n",
    "\n",
    "Theories:\n",
    "\n",
    "* https://en.wikipedia.org/wiki/Hilbert%27s_program\n",
    "* https://en.wikipedia.org/wiki/Entscheidungsproblem\n",
    "* https://en.wikipedia.org/wiki/G%C3%B6del%27s_incompleteness_theorems\n",
    "* https://en.wikipedia.org/wiki/Lambda_calculus -- How do you mathematically describe an algorithm? Equivalent to Turing machine."
   ]
  },
  {
   "cell_type": "code",
   "execution_count": null,
   "metadata": {},
   "outputs": [],
   "source": [
    "print((lambda a: a)(3))"
   ]
  },
  {
   "cell_type": "markdown",
   "metadata": {},
   "source": [
    "#### The language, 20 years later...\n",
    "\n",
    "LISP... Is there a way to represent data structure with lambda calculus?\n",
    "\n",
    "```\n",
    "(cons 2 3) -> (2, 3)\n",
    "(car p)    -> 2\n",
    "(cdr p)    -> 3\n",
    "```\n",
    "\n",
    "Let's implement that in Python."
   ]
  },
  {
   "cell_type": "code",
   "execution_count": null,
   "metadata": {},
   "outputs": [],
   "source": [
    "def cons(a, b):\n",
    "    def select(m):\n",
    "        if m == 0:\n",
    "            return a\n",
    "        elif m == 1:\n",
    "            return b\n",
    "    return select\n",
    "\n",
    "\n",
    "def car(p):\n",
    "    return p(0)\n",
    "\n",
    "\n",
    "def cdr(p):\n",
    "    return p(1)"
   ]
  },
  {
   "cell_type": "code",
   "execution_count": null,
   "metadata": {},
   "outputs": [],
   "source": [
    "p = cons(2, 3)\n",
    "print(car(p))\n",
    "print(cdr(p))"
   ]
  },
  {
   "cell_type": "markdown",
   "metadata": {},
   "source": [
    "But didn't we implement the switch (selector) this morning? Can we use use it for this?\n",
    "\n",
    "```python\n",
    "def TRUE(x):\n",
    "    return lambda y: x\n",
    "\n",
    "def FALSE(x):\n",
    "    return lambda y: y\n",
    "```"
   ]
  },
  {
   "cell_type": "code",
   "execution_count": null,
   "metadata": {},
   "outputs": [],
   "source": [
    "CONS = lambda a: lambda b: (lambda s: s(a)(b))"
   ]
  },
  {
   "cell_type": "code",
   "execution_count": null,
   "metadata": {},
   "outputs": [],
   "source": [
    "p = CONS(2)(3)"
   ]
  },
  {
   "cell_type": "code",
   "execution_count": null,
   "metadata": {},
   "outputs": [],
   "source": [
    "print(p(TRUE))\n",
    "print(p(FALSE))"
   ]
  },
  {
   "cell_type": "code",
   "execution_count": null,
   "metadata": {},
   "outputs": [],
   "source": [
    "CAR = lambda p: p(TRUE)\n",
    "CDR = lambda p: p(FALSE)"
   ]
  },
  {
   "cell_type": "code",
   "execution_count": null,
   "metadata": {},
   "outputs": [],
   "source": [
    "print(CAR(p))\n",
    "print(CDR(p))"
   ]
  },
  {
   "cell_type": "markdown",
   "metadata": {},
   "source": [
    "#### Predecessor\n",
    "\n",
    "Can we use this to do subtraction (decrement, predecessor)? Given this:\n",
    "\n",
    "```python\n",
    "THREE = lambda f: lambda x: f(f(f(x)))\n",
    "```\n",
    "\n",
    "How do we get `TWO`? The `t`-function was something we kind of did earlier above."
   ]
  },
  {
   "cell_type": "code",
   "execution_count": null,
   "metadata": {},
   "outputs": [],
   "source": [
    "def t(p):\n",
    "    return (p[0] + 1, p[0])"
   ]
  },
  {
   "cell_type": "code",
   "execution_count": null,
   "metadata": {},
   "outputs": [],
   "source": [
    "THREE(t)((0, 0))"
   ]
  },
  {
   "cell_type": "code",
   "execution_count": null,
   "metadata": {},
   "outputs": [],
   "source": [
    "T = lambda p: CONS(SUCC(CAR(p)))(CAR(p))"
   ]
  },
  {
   "cell_type": "code",
   "execution_count": null,
   "metadata": {},
   "outputs": [],
   "source": [
    "a = FOUR(T)(CONS(ZERO)(ZERO))"
   ]
  },
  {
   "cell_type": "code",
   "execution_count": null,
   "metadata": {},
   "outputs": [],
   "source": [
    "show(CAR(a))\n",
    "show(CDR(a))"
   ]
  },
  {
   "cell_type": "markdown",
   "metadata": {},
   "source": [
    "Note: This is not a practical solution. If you want `10000 - 1`, you basically have to count up to 10000 and then take the number before that."
   ]
  },
  {
   "cell_type": "code",
   "execution_count": null,
   "metadata": {},
   "outputs": [],
   "source": [
    "PRED = lambda n: CDR(n(T)(CONS(ZERO)(ZERO)))"
   ]
  },
  {
   "cell_type": "code",
   "execution_count": null,
   "metadata": {},
   "outputs": [],
   "source": [
    "a = FOUR(THREE)\n",
    "show(PRED(a))\n",
    "print(3 ** 4 - 1)"
   ]
  },
  {
   "cell_type": "markdown",
   "metadata": {},
   "source": [
    "#### Subtraction\n",
    "\n",
    "Now that we can go back one, we can go back `x` number of times and, hence, subtraction."
   ]
  },
  {
   "cell_type": "code",
   "execution_count": null,
   "metadata": {},
   "outputs": [],
   "source": [
    "SUB = lambda x: lambda y: y(PRED)(x)"
   ]
  },
  {
   "cell_type": "code",
   "execution_count": null,
   "metadata": {},
   "outputs": [],
   "source": [
    "print(4 - 2)\n",
    "show(SUB(FOUR)(TWO))"
   ]
  },
  {
   "cell_type": "markdown",
   "metadata": {},
   "source": [
    "#### Check if zero\n",
    "\n",
    "How do we check if a number is zero?\n",
    "\n",
    "```python\n",
    "ZERO = lambda f: lambda x: x\n",
    "TWO = lambda f: lambda x: f(f(x))\n",
    "```\n",
    "\n",
    "If argument is not `ZERO`, discard argument and just return `FALSE`."
   ]
  },
  {
   "cell_type": "code",
   "execution_count": null,
   "metadata": {},
   "outputs": [],
   "source": [
    "ISZERO = lambda n: n(lambda f: FALSE)(TRUE)"
   ]
  },
  {
   "cell_type": "code",
   "execution_count": null,
   "metadata": {},
   "outputs": [],
   "source": [
    "print(ISZERO(ZERO))\n",
    "print(ISZERO(ONE))\n",
    "print(ISZERO(TWO))"
   ]
  },
  {
   "cell_type": "markdown",
   "metadata": {},
   "source": [
    "But what does this cell below mean??? Should it be `FALSE` or raise error instead?"
   ]
  },
  {
   "cell_type": "code",
   "execution_count": null,
   "metadata": {},
   "outputs": [],
   "source": [
    "ISZERO(ISZERO)"
   ]
  },
  {
   "cell_type": "markdown",
   "metadata": {},
   "source": [
    "We might have built a weird assembly/machine code."
   ]
  },
  {
   "cell_type": "markdown",
   "metadata": {},
   "source": [
    "#### Recursion: Factorial\n",
    "\n",
    "https://en.wikipedia.org/wiki/Factorial\n",
    "\n",
    "Now, can we implement factorial with this thing? `ISZERO` can act like a `if` statement because it returns `TRUE` or `FALSE`."
   ]
  },
  {
   "cell_type": "code",
   "execution_count": null,
   "metadata": {},
   "outputs": [],
   "source": [
    "# The normal Python way\n",
    "def fact(n):\n",
    "    if n == 0:\n",
    "        return 1\n",
    "    return n * fact(n - 1)"
   ]
  },
  {
   "cell_type": "code",
   "execution_count": null,
   "metadata": {},
   "outputs": [],
   "source": [
    "fact(4)"
   ]
  },
  {
   "cell_type": "code",
   "execution_count": null,
   "metadata": {},
   "outputs": [],
   "source": [
    "FACT = lambda n: ISZERO(n)(ONE)(MUL(n)(FACT(PRED(n))))"
   ]
  },
  {
   "cell_type": "markdown",
   "metadata": {},
   "source": [
    "Unfortunately, this gives `RecursionError`:\n",
    "\n",
    "```python\n",
    "FACT(FOUR)\n",
    "```\n",
    "\n",
    "In normal Python, `f(2 + 10)` evaluates the argument first before passing it in. In control flow, Python stops when first path works out and not go down the other. But in our `FACT` implementation above, it goes down both paths blindly, resulting in recursion error.\n",
    "\n",
    "Let's consider the `choose` Python function below."
   ]
  },
  {
   "cell_type": "code",
   "execution_count": null,
   "metadata": {},
   "outputs": [],
   "source": [
    "def choose(t, a, b):\n",
    "    if t:\n",
    "        return a\n",
    "    return b"
   ]
  },
  {
   "cell_type": "code",
   "execution_count": null,
   "metadata": {},
   "outputs": [],
   "source": [
    "a = 0"
   ]
  },
  {
   "cell_type": "markdown",
   "metadata": {},
   "source": [
    "This wil give `ZeroDivisionError` because Python evaluates both `a` and `1 / a` before passing them in.\n",
    "\n",
    "```python\n",
    "choose(a == 0, a, 1 / a)\n",
    "```\n",
    "\n",
    "But this works because Python stops at `a == 0`."
   ]
  },
  {
   "cell_type": "code",
   "execution_count": null,
   "metadata": {},
   "outputs": [],
   "source": [
    "a if a == 0 else 1 / a"
   ]
  },
  {
   "cell_type": "markdown",
   "metadata": {},
   "source": [
    "We can fix `choose` by delaying the evaluation by passing in lambda functions. This is mainly required because Python does eager evaluation."
   ]
  },
  {
   "cell_type": "code",
   "execution_count": null,
   "metadata": {},
   "outputs": [],
   "source": [
    "def choose(t, a, b):\n",
    "    if t:\n",
    "        return a()  # Evaluate only if needed\n",
    "    return b()"
   ]
  },
  {
   "cell_type": "code",
   "execution_count": null,
   "metadata": {},
   "outputs": [],
   "source": [
    "choose(a == 0, lambda: a, lambda: 1 / a)"
   ]
  },
  {
   "cell_type": "markdown",
   "metadata": {},
   "source": [
    "Now, a hack on our lambda function so Python won't blow up. We use lazy evaluation for `TRUE` and `FALSE`. We also re-define `ISZERO` and `FACT`."
   ]
  },
  {
   "cell_type": "code",
   "execution_count": null,
   "metadata": {},
   "outputs": [],
   "source": [
    "LAZY_TRUE = lambda x: lambda y: x()\n",
    "LAZY_FALSE = lambda x: lambda y: y()\n",
    "ISZERO = lambda n: n(lambda f: LAZY_FALSE)(LAZY_TRUE)\n",
    "FACT = lambda n: ISZERO(n)(lambda: ONE)(lambda: MUL(n)(FACT(PRED(n))))"
   ]
  },
  {
   "cell_type": "code",
   "execution_count": null,
   "metadata": {},
   "outputs": [],
   "source": [
    "show(FACT(FOUR))"
   ]
  },
  {
   "cell_type": "markdown",
   "metadata": {},
   "source": [
    "How does recursion work then? No variables."
   ]
  },
  {
   "cell_type": "code",
   "execution_count": null,
   "metadata": {},
   "outputs": [],
   "source": [
    "fact = lambda n: 1 if n == 0 else n * fact(n - 1)\n",
    "print(fact(4))"
   ]
  },
  {
   "cell_type": "markdown",
   "metadata": {},
   "source": [
    "Rewrite that with no self-reference to `fact`. If we cannot self-reference, we would make it an argument.\n",
    "\n",
    "```python\n",
    "fact = (lambda f: lambda n: 1 if n == 0 else n * f(n - 1))(fact)\n",
    "```\n",
    "\n",
    "Let's try repetition and add an extra `f`."
   ]
  },
  {
   "cell_type": "code",
   "execution_count": null,
   "metadata": {},
   "outputs": [],
   "source": [
    "fact = ((lambda f: lambda n: 1 if n == 0 else n * f(f)(n - 1))\n",
    "        (lambda f: lambda n: 1 if n == 0 else n * f(f)(n - 1)))"
   ]
  },
  {
   "cell_type": "code",
   "execution_count": null,
   "metadata": {},
   "outputs": [],
   "source": [
    "fact(4)"
   ]
  },
  {
   "cell_type": "markdown",
   "metadata": {},
   "source": [
    "To further prove that we don't really need the name `fact` at all..."
   ]
  },
  {
   "cell_type": "code",
   "execution_count": null,
   "metadata": {},
   "outputs": [],
   "source": [
    "print((lambda f: lambda n: 1 if n == 0 else n * f(f)(n - 1))\n",
    "      (lambda f: lambda n: 1 if n == 0 else n * f(f)(n - 1))(4))"
   ]
  },
  {
   "cell_type": "markdown",
   "metadata": {},
   "source": [
    "When you press `sqrt` on a calculator, eventually it gives a one and get stuck there. It is called a \"fixed point.\" Are fixed points related to recursion?\n",
    "\n",
    "```python\n",
    "# Original function\n",
    "fact = lambda n: 1 if n == 0 else n * fact(n - 1)\n",
    "\n",
    "# Trick with variable name\n",
    "fact = (lambda f: lambda n: 1 if n == 0 else n * f(n - 1))(fact)\n",
    "\n",
    "# Take out the middle\n",
    "R = (lambda f: lambda n: 1 if n == 0 else n * f(n - 1))\n",
    "\n",
    "# Now you can get this, mathematically.\n",
    "fact = R(fact)\n",
    "```\n",
    "\n",
    "Ponder: `fact` must be a fixed point of `R`. But, how does it help? We do not know what `fact` is in `fact = R(fact)`.\n",
    "\n",
    "**LEAP!**\n",
    "\n",
    "Suppose that there is a function, `Y`, that computes the fixed point of `R`:\n",
    "\n",
    "```\n",
    "Y(R) -> Fixed point of R (whatever it is)\n",
    "```\n",
    "\n",
    "Then:\n",
    "\n",
    "```python\n",
    "Y(R) = R(Y(R))\n",
    "```\n",
    "\n",
    "Recursion trick:\n",
    "\n",
    "```python\n",
    "Y(R) = (lambda x: R(x))(Y(R))\n",
    "    \n",
    "# Repeat-yourself trick\n",
    "Y(R) = (lambda x: R(x))(lambda x: R(x))\n",
    "# Add the extra \"x\"\n",
    "Y(R) = (lambda x: R(x(x)))(lambda x: R(x(x)))\n",
    "```\n",
    "\n",
    "This almost looks like a math formula:\n",
    "\n",
    "```\n",
    "Y(R) = (λx.(λx: f(x(x)))(λx: f(x(x))))(R)\n",
    "\n",
    "# R on both sides, so drop it!\n",
    "R = (λf.λn: 1 if n == 0 else n * f(n - 1))\n",
    "Y = λf.λx: f(x(x)))(λx: f(x(x)))\n",
    "fact = Y(R)\n",
    "```\n",
    "\n",
    "Theoretically, this does recursion via \"serious magic\" but it does not really work. You will get `RecursionError` in Python.\n",
    "\n",
    "To make it work, we need a decorator."
   ]
  },
  {
   "cell_type": "code",
   "execution_count": null,
   "metadata": {},
   "outputs": [],
   "source": [
    "R = (lambda f: lambda n: 1 if n == 0 else n * f(n - 1))\n",
    "Y = lambda f: (lambda x: f(lambda z: x(x)(z)))(lambda x: f(lambda z: x(x)(z)))\n",
    "fact = Y(R)"
   ]
  },
  {
   "cell_type": "code",
   "execution_count": null,
   "metadata": {},
   "outputs": [],
   "source": [
    "fact(4)"
   ]
  },
  {
   "cell_type": "markdown",
   "metadata": {},
   "source": [
    "#### Fibonacci number\n",
    "\n",
    "https://en.wikipedia.org/wiki/Fibonacci_number\n",
    "\n",
    "You can apply the `Y` above for a whole different function."
   ]
  },
  {
   "cell_type": "code",
   "execution_count": null,
   "metadata": {},
   "outputs": [],
   "source": [
    "R1 = lambda f: lambda n: 1 if n <= 2 else f(n - 1) + f(n - 2)\n",
    "fib = Y(R1)"
   ]
  },
  {
   "cell_type": "code",
   "execution_count": null,
   "metadata": {},
   "outputs": [],
   "source": [
    "print(fib(10))\n",
    "print(fib(1))"
   ]
  },
  {
   "cell_type": "markdown",
   "metadata": {},
   "source": [
    "\"Has your head exploded yet?\""
   ]
  },
  {
   "cell_type": "markdown",
   "metadata": {},
   "source": [
    "#### The combinators\n",
    "\n",
    "Combinator: Function with no free variables.\n",
    "\n",
    "* https://en.wikipedia.org/wiki/Moses_Sch%C3%B6nfinkel (has a tragic story)\n",
    "* https://en.wikipedia.org/wiki/Combinatory_logic\n",
    "* https://en.wikipedia.org/wiki/Functional_programming"
   ]
  },
  {
   "cell_type": "markdown",
   "metadata": {},
   "source": [
    "#### Final thoughts\n",
    "\n",
    "So what do we do with this knowledge? Even if we will never code in it, it is good to have a mental model of how it works. Like Python programmers kinda know about machine code. Gateway into functional programming."
   ]
  }
 ],
 "metadata": {
  "kernelspec": {
   "display_name": "Python 3",
   "language": "python",
   "name": "python3"
  },
  "language_info": {
   "codemirror_mode": {
    "name": "ipython",
    "version": 3
   },
   "file_extension": ".py",
   "mimetype": "text/x-python",
   "name": "python",
   "nbconvert_exporter": "python",
   "pygments_lexer": "ipython3",
   "version": "3.7.1"
  }
 },
 "nbformat": 4,
 "nbformat_minor": 2
}
