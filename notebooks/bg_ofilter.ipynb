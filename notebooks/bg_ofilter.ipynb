{
 "cells": [
  {
   "cell_type": "markdown",
   "metadata": {},
   "source": [
    "# Background Computation with \"ofilter\""
   ]
  },
  {
   "cell_type": "markdown",
   "metadata": {},
   "source": [
    "This notebook illustrate background calculations using `ofilter` algorithm adapted from IRAF."
   ]
  },
  {
   "cell_type": "code",
   "execution_count": 1,
   "metadata": {
    "collapsed": true
   },
   "outputs": [],
   "source": [
    "import matplotlib.pyplot as plt\n",
    "import numpy as np\n",
    "import scipy\n",
    "\n",
    "import ofiltsky\n",
    "\n",
    "%matplotlib inline"
   ]
  },
  {
   "cell_type": "markdown",
   "metadata": {},
   "source": [
    "### Generate Data"
   ]
  },
  {
   "cell_type": "code",
   "execution_count": 17,
   "metadata": {
    "collapsed": true
   },
   "outputs": [],
   "source": [
    "# Set the seed for reproducibility\n",
    "np.random.seed(0)\n",
    "\n",
    "# Random Poisson data\n",
    "data = np.random.poisson(lam=1, size=(50, 50))"
   ]
  },
  {
   "cell_type": "code",
   "execution_count": 3,
   "metadata": {
    "collapsed": false
   },
   "outputs": [
    {
     "data": {
      "text/plain": [
       "<matplotlib.colorbar.Colorbar at 0x7fb11241f9b0>"
      ]
     },
     "execution_count": 3,
     "metadata": {},
     "output_type": "execute_result"
    },
    {
     "data": {
      "image/png": "[encoded data removed]",
      "text/plain": [
       "<matplotlib.figure.Figure at 0x7fb1123eaa90>"
      ]
     },
     "metadata": {},
     "output_type": "display_data"
    }
   ],
   "source": [
    "plt.imshow(data, cmap='viridis', interpolation='none')\n",
    "plt.colorbar()"
   ]
  },
  {
   "cell_type": "code",
   "execution_count": 4,
   "metadata": {
    "collapsed": false
   },
   "outputs": [
    {
     "data": {
      "image/png": "[encoded data removed]",
      "text/plain": [
       "<matplotlib.figure.Figure at 0x7fb13971f5f8>"
      ]
     },
     "metadata": {},
     "output_type": "display_data"
    }
   ],
   "source": [
    "h = plt.hist(data.flatten(), bins=5, histtype='stepfilled')"
   ]
  },
  {
   "cell_type": "markdown",
   "metadata": {},
   "source": [
    "### Quick IRAF Detour"
   ]
  },
  {
   "cell_type": "markdown",
   "metadata": {},
   "source": [
    "To write this data out for IRAF, uncomment and run the following:"
   ]
  },
  {
   "cell_type": "code",
   "execution_count": 5,
   "metadata": {
    "collapsed": true
   },
   "outputs": [],
   "source": [
    "# from astropy.io import fits\n",
    "#\n",
    "# hdu0 = fits.PrimaryHDU()\n",
    "# hdu1 = fits.ImageHDU(data.astype(np.float32))\n",
    "# hdu = fits.HDUList([hdu0, hdu1])\n",
    "# hdu.writeto('im_poisson_0.fits', clobber=True)"
   ]
  },
  {
   "cell_type": "markdown",
   "metadata": {},
   "source": [
    "In addition to the FITS file, you also have to create an one-liner `im_poisson_0.coo` file with the following contents:\n",
    "\n",
    "    25 25\n",
    "    \n",
    "Inside your IRAF session, set the following parameters (more or less) using `epar`:\n",
    "\n",
    "    datapars.sigma = 1.\n",
    "    fitskypars.salgo = \"ofilter\"\n",
    "    fitskypars.annulus = 1.\n",
    "    fitskypars.dannulus = 20.\n",
    "    fitskypars.smaxiter = 10\n",
    "    fitskypars.snreject = 10\n",
    "    \n",
    "Then, run the following command:\n",
    "\n",
    "    fitsky im_poisson_0.fits im_poisson_0.coo\n",
    "    \n",
    "The result would be in `im_poisson_0.fits1.sky.1`:\n",
    "\n",
    "    MSKY = 0.7501966\n",
    "    STDEV = 0.7515768\n",
    "    SSKEW = 0.5060266"
   ]
  },
  {
   "cell_type": "markdown",
   "metadata": {},
   "source": [
    "### Back to Python"
   ]
  },
  {
   "cell_type": "markdown",
   "metadata": {},
   "source": [
    "For this dataset, Python version of the `ofilter` algorithm gives slightly lower sky and skew values, but comparable sigma. The Python version uses third-party libraries like Numpy, Scipy, and Astropy. Thus, it is not shocking that we are not getting complete agreement here.\n",
    "\n",
    "Some questions that could be pursued:\n",
    "\n",
    "1. Is it good enough? (Also see the next sub-section.)\n",
    "2. Do we even care about the skew? Maybe not? In Python, it is calculated using `scipy.stats.skew()`."
   ]
  },
  {
   "cell_type": "code",
   "execution_count": 23,
   "metadata": {
    "collapsed": false
   },
   "outputs": [
    {
     "data": {
      "text/plain": [
       "1.0"
      ]
     },
     "execution_count": 23,
     "metadata": {},
     "output_type": "execute_result"
    }
   ],
   "source": [
    "np.ceil(data.std())"
   ]
  },
  {
   "cell_type": "code",
   "execution_count": 24,
   "metadata": {
    "collapsed": false
   },
   "outputs": [
    {
     "name": "stdout",
     "output_type": "stream",
     "text": [
      "MSKY = 0.92918132758\n",
      "STDEV = 0.747370581312\n",
      "SSKEW = 0.3443684652164396\n"
     ]
    }
   ],
   "source": [
    "# NOTE: Sigma clipping does not matter much for this dataset.\n",
    "ofil_results = ofiltsky.fitsky_ofilter(data, binsize=data.std(), sigclip_sigma=None)\n",
    "\n",
    "print('MSKY =', ofil_results[0])\n",
    "print('STDEV =', ofil_results[1])\n",
    "print('SSKEW =', ofil_results[2])"
   ]
  },
  {
   "cell_type": "markdown",
   "metadata": {},
   "source": [
    "We can also compare with some other available statistics:"
   ]
  },
  {
   "cell_type": "code",
   "execution_count": 7,
   "metadata": {
    "collapsed": false
   },
   "outputs": [
    {
     "name": "stdout",
     "output_type": "stream",
     "text": [
      "MEAN = 0.9868\n",
      "MEDIAN = 1.0\n",
      "MODE = 1\n"
     ]
    }
   ],
   "source": [
    "sky_mean = data.mean()\n",
    "sky_med = np.median(data)\n",
    "sky_mode = scipy.stats.mode(data, axis=None).mode[0]\n",
    "\n",
    "print('MEAN =', sky_mean)\n",
    "print('MEDIAN =', sky_med)\n",
    "print('MODE =', sky_mode)"
   ]
  },
  {
   "cell_type": "markdown",
   "metadata": {},
   "source": [
    "### Comparing Results"
   ]
  },
  {
   "cell_type": "markdown",
   "metadata": {},
   "source": [
    "This sub-section attempts to generate a plot not unlike what was published in WFPC2 ISR 1996-03 (Ferguson 1996). Perhaps the plot here can answer, \"Is it good enough?\""
   ]
  },
  {
   "cell_type": "code",
   "execution_count": 8,
   "metadata": {
    "collapsed": false
   },
   "outputs": [
    {
     "name": "stdout",
     "output_type": "stream",
     "text": [
      "i=0, val=0.0, errmsg=Unable to construct histogram\n",
      "i=1, val=0.1, errmsg=Unable to construct histogram\n",
      "i=2, val=0.2, errmsg=Unable to construct histogram\n",
      "i=3, val=0.3, errmsg=Unable to construct histogram\n",
      "i=4, val=0.4, errmsg=Unable to construct histogram\n",
      "i=5, val=0.5, errmsg=Unable to construct histogram\n",
      "i=6, val=0.6, errmsg=Unable to construct histogram\n",
      "\n",
      "Number of data points for plotting: 38\n"
     ]
    }
   ],
   "source": [
    "# Populate desired background values\n",
    "vals = np.arange(0, 4.5, 0.1)\n",
    "\n",
    "# Initialize arrays to store results\n",
    "sky_vals = []\n",
    "sky_ofil = []\n",
    "sky_med = []\n",
    "sky_mean = []\n",
    "\n",
    "# Generate results\n",
    "for i, val in enumerate(vals):\n",
    "    np.random.seed(i)\n",
    "    data = np.random.poisson(lam=val, size=(50, 50))\n",
    "    \n",
    "    try:\n",
    "        msky = ofiltsky.fitsky_ofilter(data, sigclip_sigma=None)[0]\n",
    "    except ValueError as e:\n",
    "        print('i={0}, val={1:.1f}, errmsg={2}'.format(i, val, str(e)))\n",
    "        continue\n",
    "        \n",
    "    sky_vals.append(val)\n",
    "    sky_ofil.append(msky)\n",
    "    sky_med.append(np.median(data))\n",
    "    sky_mean.append(data.mean())\n",
    "    \n",
    "# Convert result to Numpy arrays\n",
    "sky_vals = np.asarray(sky_vals)\n",
    "sky_ofil = np.asarray(sky_ofil)\n",
    "sky_med = np.asarray(sky_med)\n",
    "sky_mean = np.asarray(sky_mean)\n",
    "    \n",
    "print()\n",
    "print('Number of data points for plotting:', sky_ofil.size)"
   ]
  },
  {
   "cell_type": "code",
   "execution_count": 9,
   "metadata": {
    "collapsed": false
   },
   "outputs": [
    {
     "data": {
      "text/plain": [
       "<matplotlib.legend.Legend at 0x7fb10fa95d30>"
      ]
     },
     "execution_count": 9,
     "metadata": {},
     "output_type": "execute_result"
    },
    {
     "data": {
      "image/png": "[encoded data removed]",
      "text/plain": [
       "<matplotlib.figure.Figure at 0x7fb10fac7550>"
      ]
     },
     "metadata": {},
     "output_type": "display_data"
    }
   ],
   "source": [
    "plt.scatter(sky_mean, sky_med - sky_mean, color='b', marker='x', label='median')\n",
    "plt.scatter(sky_mean, sky_ofil - sky_mean, color='r', marker='o', label='ofilter (Python)')\n",
    "plt.scatter([0.9868], [0.7501699 - 0.9868], color='k', marker='o', label='ofilter (IRAF)')\n",
    "plt.xlabel('mean')\n",
    "plt.ylabel('X - mean')\n",
    "plt.axhline(0, color='k', linestyle='--')\n",
    "plt.legend(bbox_to_anchor=(1.01, 1), loc='upper left', scatterpoints=1)"
   ]
  },
  {
   "cell_type": "code",
   "execution_count": 10,
   "metadata": {
    "collapsed": false
   },
   "outputs": [
    {
     "data": {
      "text/plain": [
       "<matplotlib.legend.Legend at 0x7fb10fa120b8>"
      ]
     },
     "execution_count": 10,
     "metadata": {},
     "output_type": "execute_result"
    },
    {
     "data": {
      "image/png": "[encoded data removed]",
      "text/plain": [
       "<matplotlib.figure.Figure at 0x7fb10facf320>"
      ]
     },
     "metadata": {},
     "output_type": "display_data"
    }
   ],
   "source": [
    "plt.scatter(sky_med, sky_mean - sky_med, color='b', marker='x', label='mean')\n",
    "plt.scatter(sky_med, sky_ofil - sky_med, color='r', marker='o', label='ofilter (Python)')\n",
    "plt.scatter([1], [0.7501699 - 1], color='k', marker='o', label='ofilter (IRAF)')\n",
    "plt.xlabel('median')\n",
    "plt.ylabel('X - median')\n",
    "plt.axhline(0, color='k', linestyle='--')\n",
    "plt.legend(bbox_to_anchor=(1.01, 1), loc='upper left', scatterpoints=1)"
   ]
  },
  {
   "cell_type": "code",
   "execution_count": 11,
   "metadata": {
    "collapsed": false
   },
   "outputs": [
    {
     "data": {
      "text/plain": [
       "<matplotlib.legend.Legend at 0x7fb10f918be0>"
      ]
     },
     "execution_count": 11,
     "metadata": {},
     "output_type": "execute_result"
    },
    {
     "data": {
      "image/png": "[encoded data removed]",
      "text/plain": [
       "<matplotlib.figure.Figure at 0x7fb10f9e4518>"
      ]
     },
     "metadata": {},
     "output_type": "display_data"
    }
   ],
   "source": [
    "plt.scatter(sky_vals, sky_mean - sky_vals, color='b', marker='x', label='mean')\n",
    "plt.scatter(sky_vals, sky_med - sky_vals, color='g', marker='*', label='median')\n",
    "plt.scatter(sky_vals, sky_ofil - sky_vals, color='r', marker='o', label='ofilter (Python)')\n",
    "plt.scatter([1], [0.7501699 - 1], color='k', marker='o', label='ofilter (IRAF)')\n",
    "plt.xlabel('vals')\n",
    "plt.ylabel('X - vals')\n",
    "plt.axhline(0, color='k', linestyle='--')\n",
    "plt.legend(bbox_to_anchor=(1.01, 1), loc='upper left', scatterpoints=1)"
   ]
  },
  {
   "cell_type": "markdown",
   "metadata": {},
   "source": [
    "### Try with Other Skewed Distribution"
   ]
  },
  {
   "cell_type": "code",
   "execution_count": 12,
   "metadata": {
    "collapsed": false
   },
   "outputs": [
    {
     "name": "stdout",
     "output_type": "stream",
     "text": [
      "\n",
      "Number of data points for plotting: 45\n"
     ]
    }
   ],
   "source": [
    "from scipy.stats import gumbel_r\n",
    "\n",
    "# Populate desired background values\n",
    "vals = np.arange(0.1, 4.6, 0.1)\n",
    "\n",
    "# Initialize arrays to store results\n",
    "sky_vals = []\n",
    "sky_ofil = []\n",
    "sky_med = []\n",
    "sky_mean = []\n",
    "\n",
    "# Generate results\n",
    "for i, val in enumerate(vals):\n",
    "    np.random.seed(i)  # Does this control Scipy?\n",
    "    data = gumbel_r.rvs(loc=val, size=(50, 50))\n",
    "    \n",
    "    try:\n",
    "        msky = ofiltsky.fitsky_ofilter(data, sigclip_sigma=None)[0]\n",
    "    except ValueError as e:\n",
    "        print('i={0}, val={1:.1f}, errmsg={2}'.format(i, val, str(e)))\n",
    "        continue\n",
    "        \n",
    "    sky_vals.append(val)\n",
    "    sky_ofil.append(msky)\n",
    "    sky_med.append(np.median(data))\n",
    "    sky_mean.append(data.mean())\n",
    "    \n",
    "# Convert result to Numpy arrays\n",
    "sky_vals = np.asarray(sky_vals)\n",
    "sky_ofil = np.asarray(sky_ofil)\n",
    "sky_med = np.asarray(sky_med)\n",
    "sky_mean = np.asarray(sky_mean)\n",
    "    \n",
    "print()\n",
    "print('Number of data points for plotting:', sky_ofil.size)"
   ]
  },
  {
   "cell_type": "code",
   "execution_count": 13,
   "metadata": {
    "collapsed": false
   },
   "outputs": [
    {
     "data": {
      "text/plain": [
       "<matplotlib.legend.Legend at 0x7fb10f912128>"
      ]
     },
     "execution_count": 13,
     "metadata": {},
     "output_type": "execute_result"
    },
    {
     "data": {
      "image/png": "[encoded data removed]",
      "text/plain": [
       "<matplotlib.figure.Figure at 0x7fb10f9297b8>"
      ]
     },
     "metadata": {},
     "output_type": "display_data"
    }
   ],
   "source": [
    "plt.scatter(sky_vals, sky_mean - sky_vals, color='b', marker='x', label='mean')\n",
    "plt.scatter(sky_vals, sky_med - sky_vals, color='g', marker='*', label='median')\n",
    "plt.scatter(sky_vals, sky_ofil - sky_vals, color='r', marker='o', label='ofilter (Python)')\n",
    "plt.xlabel('vals')\n",
    "plt.ylabel('X - vals')\n",
    "plt.axhline(0, color='k', linestyle='--')\n",
    "plt.legend(bbox_to_anchor=(1.01, 1), loc='upper left', scatterpoints=1)"
   ]
  },
  {
   "cell_type": "markdown",
   "metadata": {},
   "source": [
    "Display histogram of the data from the last iteration above:"
   ]
  },
  {
   "cell_type": "code",
   "execution_count": 14,
   "metadata": {
    "collapsed": false
   },
   "outputs": [
    {
     "data": {
      "text/plain": [
       "<matplotlib.lines.Line2D at 0x7fb10f88ab70>"
      ]
     },
     "execution_count": 14,
     "metadata": {},
     "output_type": "execute_result"
    },
    {
     "data": {
      "image/png": "[encoded data removed]",
      "text/plain": [
       "<matplotlib.figure.Figure at 0x7fb10f8ab400>"
      ]
     },
     "metadata": {},
     "output_type": "display_data"
    }
   ],
   "source": [
    "h = plt.hist(data.flatten(), bins=20, histtype='stepfilled')\n",
    "plt.axvline(msky, color='r')\n",
    "plt.axvline(np.median(data), color='g')\n",
    "plt.axvline(data.mean(), color='b')\n",
    "plt.axvline(val, color='k')"
   ]
  },
  {
   "cell_type": "code",
   "execution_count": null,
   "metadata": {
    "collapsed": true
   },
   "outputs": [],
   "source": []
  }
 ],
 "metadata": {
  "kernelspec": {
   "display_name": "Python 3",
   "language": "python",
   "name": "python3"
  },
  "language_info": {
   "codemirror_mode": {
    "name": "ipython",
    "version": 3
   },
   "file_extension": ".py",
   "mimetype": "text/x-python",
   "name": "python",
   "nbconvert_exporter": "python",
   "pygments_lexer": "ipython3",
   "version": "3.5.1"
  }
 },
 "nbformat": 4,
 "nbformat_minor": 0
}
